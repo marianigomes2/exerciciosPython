{
  "cells": [
    {
      "cell_type": "code",
      "execution_count": null,
      "metadata": {
        "id": "0Ty0lcmWOr-J"
      },
      "outputs": [],
      "source": []
    },
    {
      "cell_type": "markdown",
      "metadata": {
        "id": "avtTS8dpPYwH"
      },
      "source": [
        "Primeiro exerciico da atividade pratica"
      ]
    },
    {
      "cell_type": "code",
      "execution_count": 1,
      "metadata": {
        "id": "XR7I4yyyNGdx",
        "colab": {
          "base_uri": "https://localhost:8080/"
        },
        "outputId": "3fe21a77-fedd-4803-99d5-2cfbf987ae93"
      },
      "outputs": [
        {
          "output_type": "stream",
          "name": "stdout",
          "text": [
            "Bem-vindo a loja da Mariani Gomes da Silva Santos\n",
            "Entre com o valor do produto: 3\n",
            "Digite a quantidade do produto: 4\n",
            "O valor sem desconto: R$ 12.00\n",
            "O valor com desconto: R$ 12.00\n"
          ]
        }
      ],
      "source": [
        "\n",
        "print ('Bem-vindo a loja da Mariani Gomes da Silva Santos')\n",
        "valor_produto = float(input('Entre com o valor do produto: '))\n",
        "qtd_produto = int (input('Digite a quantidade do produto: '))\n",
        "mult = valor_produto * qtd_produto\n",
        "print ('O valor sem desconto: R$ {:.2f}' .format(mult)) # {} ponto flutuante com 2 casas decimais.\n",
        "if mult <=1000:\n",
        "  desconto = 0.00\n",
        "\n",
        "elif mult >= 1000 and mult <= 3000:\n",
        "  desconto = 0.03 # 3% =  0.03\n",
        "\n",
        "elif mult >= 3000 and mult <= 5000:\n",
        "  desconto = 0.05 # 5% = 0.03\n",
        "\n",
        "else:\n",
        "  desconto = 0.08  # 8% = 0.08\n",
        "\n",
        "total_com_desconto = mult - mult * desconto\n",
        "print ('O valor com desconto: R$ {:.2f}' .format(total_com_desconto))\n",
        "\n"
      ]
    },
    {
      "cell_type": "markdown",
      "metadata": {
        "id": "Yj1LqlfSR7Pc"
      },
      "source": [
        "Exercicio 2\n"
      ]
    },
    {
      "cell_type": "code",
      "execution_count": 2,
      "metadata": {
        "colab": {
          "base_uri": "https://localhost:8080/"
        },
        "id": "YNI2ZQ3Xsup1",
        "outputId": "ca7d3a01-f770-4040-cbd4-6613ee8cb900"
      },
      "outputs": [
        {
          "output_type": "stream",
          "name": "stdout",
          "text": [
            "Bem-Vindo a loja de gelados da Mariani Gomes da Silva Santos\n",
            "--------------------CARDÁPIO--------------------\n",
            "-----| Tamanho | Cupuaçu (CP) | Açaí (AC) |-----\n",
            "-----|    P    |  R$ 10,00    |  R$ 12,00 |-----\n",
            "-----|    M    |  R$ 15,00    |  R$ 17,00 |-----\n",
            "-----|    G    |  R$ 19,00    |  R$ 21,00 |-----\n",
            "------------------------------------------------\n",
            "Entre com o sabor desejado (CP/ AC): cp\n",
            "Entre com o tamanho desejado (P/M/G): p\n",
            "Você pediu sabor de Cupuaçu tamanho P : R$ 10,00\n",
            " Deseja mais alguma coisa (s/ digite outra tecla)?: \n",
            "O valor total a ser pago: R$ 10.00\n"
          ]
        }
      ],
      "source": [
        "print ('Bem-Vindo a loja de gelados da Mariani Gomes da Silva Santos')\n",
        "print ('--------------------CARDÁPIO--------------------')\n",
        "print ('-----| Tamanho | Cupuaçu (CP) | Açaí (AC) |-----')\n",
        "print ('-----|    P    |  R$ 10,00    |  R$ 12,00 |-----')\n",
        "print ('-----|    M    |  R$ 15,00    |  R$ 17,00 |-----')\n",
        "print ('-----|    G    |  R$ 19,00    |  R$ 21,00 |-----')\n",
        "print ('------------------------------------------------')\n",
        "acumulador = 0\n",
        "while True: # laço de repetição.\n",
        "  sabor = input ('Entre com o sabor desejado (CP/ AC): ')\n",
        "\n",
        "  if sabor != 'CP' and  sabor !='cp' and sabor != 'AC' and sabor!='ac': # caso o usuário digite um tamanho diferente.\n",
        "    print ('Sabor Inválido. Tente Novamente.')\n",
        "    continue # se usuário digitar algo inválido volta par o começo do while\n",
        "\n",
        "  tamanho = input ('Entre com o tamanho desejado (P/M/G): ')\n",
        "  if tamanho != 'P' and  tamanho !='p' and tamanho != 'M' and tamanho!='m' and tamanho!='G' and tamanho!='g':\n",
        "    print ('Tamanho Inválido. Tente Novamente.')\n",
        "    continue # se usuário digitar algo inválido volta par o começo do while\n",
        "\n",
        "  if (sabor == 'CP'or sabor == 'cp' ) and (tamanho == 'P' or tamanho == 'p'):\n",
        "    print ('Você pediu sabor de Cupuaçu tamanho P : R$ 10,00')\n",
        "    acumulador = acumulador + 10 # pegue o valor que tinha no acumulador e some com 10.\n",
        "\n",
        "  elif (sabor == 'CP'or sabor == 'cp') and (tamanho == 'M' or tamanho == 'm'):\n",
        "    print ('Você pediu sabor de Cupuaçu tamanho M : R$ 15,00')\n",
        "    acumulador = acumulador + 15 # pegue o valor que tinha no acumulador e some com 15.\n",
        "\n",
        "  elif (sabor == 'CP'or sabor == 'cp') and (tamanho == 'G' or tamanho == 'g'):\n",
        "    print ('Você pediu sabor de Cupuaçu tamanho G : R$ 19,00')\n",
        "    acumulador = acumulador + 19 # pegue o valor que tinha no acumulador e some com 19.\n",
        "\n",
        "  elif (sabor == 'AC'or sabor == 'ac') and (tamanho == 'P' or tamanho == 'p'):\n",
        "    print ('Você pediu sabor de açai tamanho P : R$ 12,00')\n",
        "    acumulador = acumulador + 12 # pegue o valor que tinha no acumulador e some com 12.\n",
        "\n",
        "  elif (sabor == 'AC'or sabor == 'ac') and (tamanho == 'M' or tamanho == 'm'):\n",
        "    print ('Você pediu sabor de açai tamanho M : R$ 17,00')\n",
        "    acumulador = acumulador + 17 # pegue o valor que tinha no acumulador e some com 17.\n",
        "\n",
        "  elif (sabor == 'AC'or sabor == 'ac') and (tamanho == 'G' or tamanho == 'g'):\n",
        "    print ('Você pediu sabor de açai tamanho G : R$ 21,00')\n",
        "    acumulador = acumulador + 21 # pegue o valor que tinha no acumulador e some com 21.\n",
        "\n",
        "  maispedido = input (' Deseja mais alguma coisa (s/ digite outra tecla)?: ')\n",
        "  maispedido = maispedido.upper() # resolve o problema de digitar maiusculo ou minusculo.\n",
        "  if maispedido == 'S':\n",
        "    continue\n",
        "\n",
        "  else:\n",
        "    print('O valor total a ser pago: R$ {:.2f}'.format(acumulador))\n",
        "    break # encerrar o programa."
      ]
    },
    {
      "cell_type": "markdown",
      "metadata": {
        "id": "eRNtYJULfGar"
      },
      "source": []
    },
    {
      "cell_type": "markdown",
      "metadata": {
        "id": "OQ5Xctkk-frI"
      },
      "source": [
        "exercicio 3"
      ]
    },
    {
      "cell_type": "code",
      "execution_count": 3,
      "metadata": {
        "colab": {
          "base_uri": "https://localhost:8080/"
        },
        "id": "d-nC99SN-WaX",
        "outputId": "8c60ad69-53e0-4d8d-a48e-da5aae6cae41"
      },
      "outputs": [
        {
          "output_type": "stream",
          "name": "stdout",
          "text": [
            "Bem-Vindo a copiadora da Mariani Gomes da Silva Santos\n",
            "DIG - Digitalização\n",
            "ICO - Impressão Colorida\n",
            "IPB - Impressão preto e branco\n",
            "FOT - Fotocópia\n",
            "Qual o serviço que deseja realizar: dig\n",
            "Entre com o número de páginas: 5\n",
            "Deseja adicionar mais algum serviço?\n",
            "1 - Encadernação simples - R$ 10,00\n",
            "2 - Encadernação Capara Dura - R$ 25,00\n",
            "0 - Não desejo mais nada.\n",
            "0\n",
            "Total R$: 5.50(serviço: 1.10 * paginas: 5.0 + extra(s): 0)\n"
          ]
        }
      ],
      "source": [
        "print ('Bem-Vindo a copiadora da Mariani Gomes da Silva Santos')\n",
        "\n",
        "def escolha_servico():\n",
        "  while True:\n",
        "    print('DIG - Digitalização')\n",
        "    print('ICO - Impressão Colorida')\n",
        "    print('IPB - Impressão preto e branco')\n",
        "    print('FOT - Fotocópia')\n",
        "    servico = input('Qual o serviço que deseja realizar: ')\n",
        "    servico = servico.upper()\n",
        "    if servico != 'DIG' and servico != 'ICO' and servico != 'IPB' and servico != 'FOT':\n",
        "      print ('Escolha invalida! Entre com o tipo de serviço desejado novamente')\n",
        "      continue\n",
        "    if servico == 'DIG':\n",
        "      valor_servico = 1.10\n",
        "    elif servico == 'ICO':\n",
        "      valor_servico = 1.00\n",
        "    elif servico =='IPB':\n",
        "      valor_servico = 0.40\n",
        "    else:\n",
        "      valor_servico = 0.20\n",
        "    return valor_servico # tem como objetivo retornar o valor para a variavel global la embaixo\n",
        "\n",
        "def num_pagina():\n",
        "  while True:\n",
        "    try: # tente fazer codigo dentro desse try\n",
        "      paginas = int(input('Entre com o número de páginas: '))\n",
        "      if paginas <= 10:\n",
        "        desconto = 0.00\n",
        "      elif paginas >= 10 and paginas < 100:\n",
        "        desconto = 0.10 # desconto de 10%\n",
        "      elif paginas >= 100 and paginas < 1000:\n",
        "        desconto = 0.15 # desconto de 15%\n",
        "      elif paginas >= 1000 and paginas < 10000:\n",
        "        desconto = 0.20 # desconto de 20%\n",
        "      else:\n",
        "        print('Não é aceito pedidos nessa quantidade de páginas.')\n",
        "        print('Por favor entre com o número de páginas novamente.')\n",
        "        continue\n",
        "    except ValueError: # usuario digitouum valor invalido (deve ser numero inteiro)\n",
        "      print ('Aceitamos apenas número e não letra')\n",
        "      continue\n",
        "    return paginas - paginas * desconto\n",
        "\n",
        "def servico_extra():\n",
        "  while True:\n",
        "    print('Deseja adicionar mais algum serviço?')\n",
        "    print('1 - Encadernação simples - R$ 10,00')\n",
        "    print('2 - Encadernação Capara Dura - R$ 25,00')\n",
        "    print('0 - Não desejo mais nada.')\n",
        "    adicional = int(input(''))\n",
        "    if adicional == 1:\n",
        "     valor_extra = 10\n",
        "    elif adicional == 2:\n",
        "      valor_extra = 25\n",
        "    elif adicional == 0:\n",
        "      valor_extra = 0\n",
        "    else:\n",
        "      print(\"O serviço que você selecionou é inválida. Favor digite a opção correta\")\n",
        "      continue\n",
        "    return valor_extra\n",
        "\n",
        "#chamando a funcao servico\n",
        "servico = escolha_servico()\n",
        "paginas = num_pagina()\n",
        "extra = servico_extra()\n",
        "\n",
        "total = servico * paginas + extra\n",
        "\n",
        "print('Total R$: {:.2f}(serviço: {:.2f} * paginas: {} + extra(s): {})'.format(total,servico,paginas,extra))\n"
      ]
    },
    {
      "cell_type": "markdown",
      "metadata": {
        "id": "HpP4tF-9fGpH"
      },
      "source": [
        "exercicio 4"
      ]
    },
    {
      "cell_type": "code",
      "source": [],
      "metadata": {
        "id": "ifUP13wwsb1C"
      },
      "execution_count": null,
      "outputs": []
    },
    {
      "cell_type": "code",
      "execution_count": 5,
      "metadata": {
        "colab": {
          "base_uri": "https://localhost:8080/"
        },
        "id": "Lr6_nl3jfIub",
        "outputId": "d9497044-2b4d-4530-8e2a-e0c259e1caa4"
      },
      "outputs": [
        {
          "name": "stdout",
          "output_type": "stream",
          "text": [
            "Bem-Vindo ao Controle de livro da Mariani Gomes da Silva Santos\n",
            "\n",
            " Escolha a opção desejada:\n",
            "1- Cadastrar Livro\n",
            "2- Consultar Livro\n",
            "3- Remover Livro\n",
            "4- Encerrar Programa>>1\n",
            "----Bem-Vindo ao Menu de cadastrar livro----\n",
            "--------------------------------------------\n",
            "ID do livro : 1\n",
            "Por favor entre com o nome do livro:lua nova\n",
            "Digite o nome do autor:maya\n",
            "Digite o nome da editora:mariani\n",
            "\n",
            " Escolha a opção desejada:\n",
            "1- Cadastrar Livro\n",
            "2- Consultar Livro\n",
            "3- Remover Livro\n",
            "4- Encerrar Programa>>1\n",
            "----Bem-Vindo ao Menu de cadastrar livro----\n",
            "--------------------------------------------\n",
            "ID do livro : 2\n",
            "Por favor entre com o nome do livro:lua nova\n",
            "Digite o nome do autor:maya\n",
            "Digite o nome da editora:mariani\n",
            "\n",
            " Escolha a opção desejada:\n",
            "1- Cadastrar Livro\n",
            "2- Consultar Livro\n",
            "3- Remover Livro\n",
            "4- Encerrar Programa>>4\n"
          ]
        }
      ],
      "source": [
        "\n",
        "#Inicio da variavel global\n",
        "lista_livros = []\n",
        "id_global = 0\n",
        "# Fim da variavel global\n",
        "\n",
        "\n",
        "#Inicio cadastrar_livros\n",
        "def cadastrar_livro(id):\n",
        "  print ('----Bem-Vindo ao Menu de cadastrar livro----')\n",
        "  print ('--------------------------------------------')\n",
        "  print ('ID do livro : {}'.format(id))\n",
        "  nome_livro = input('Por favor entre com o nome do livro:')\n",
        "  autor_livro = input('Digite o nome do autor:')\n",
        "  editora = input('Digite o nome da editora:')\n",
        "  dic_livro = {     # dicionario\n",
        "      'id': id,\n",
        "      'nome': nome_livro,\n",
        "      'autor': autor_livro,\n",
        "      'edit': editora\n",
        "  }\n",
        "  lista_livros.append(dic_livro.copy())    # armazenar o conteudo do dicionario na lista fazendo uma cópia\n",
        "\n",
        "#fim cadastrar livros\n",
        "\n",
        "\n",
        "#Inicio consultar_livros\n",
        "def consultar_livros():\n",
        "  print('----Bem-vindo ao menu consultar livro----')\n",
        "  print('-----------------------------------------')\n",
        "  while True:\n",
        "    opcao_consultar = input ('\\nEscolha a opção que deseja:\\n'+\n",
        "                            '1- Consultar Todos\\n' +\n",
        "                            '2- Consultar por ID\\n'+\n",
        "                            '3- Consultar por autor\\n'+\n",
        "                            '4- Retornar ao menu'+\n",
        "                             '>>')\n",
        "    if opcao_consultar == '1':\n",
        "      print('Você escolheu a opção consultar TODOS os Livros')\n",
        "      for livro in lista_livros: # livro vai varrer toda a lista de livros\n",
        "        print('------------------------')\n",
        "        for key,value in livro.items(): #  varrer todos os conjuntos chave e valor do dicionario do livro\n",
        "          print('{}:{}'.format(key,value))\n",
        "        print('------------------------')\n",
        "    elif opcao_consultar == '2':\n",
        "      print('Você escolheu a opção consultar por ID do livro')\n",
        "      id_desejado = int(input('Entre com o ID desejado: '))\n",
        "      for livro in lista_livros:\n",
        "        if livro['id'] == id_desejado: # o valor do campo id desse dicionario é igual ao valor desejado\n",
        "          print('------------------------')\n",
        "          for key,value in livro.items(): #  varrer todos os conjuntos chave e valor do dicionario do livro\n",
        "            print('{}:{}'.format(key,value))\n",
        "        print('------------------------')\n",
        "\n",
        "    elif opcao_consultar == '3':\n",
        "      print('Você escolheu a opção consultar AUTOR do Livro')\n",
        "      autor_desejado =input('Entre com o autor desejado: ')\n",
        "      for livro in lista_livros:\n",
        "        if livro['autor'] == autor_desejado: # o valor do campo autor desse dicionario é igual ao valor desejado\n",
        "          print('------------------------')\n",
        "          for key,value in livro.items(): #  varrer todos os conjuntos chave e valor do dicionario do livro\n",
        "            print('{}:{}'.format(key,value))\n",
        "        print('------------------------')\n",
        "\n",
        "    elif opcao_consultar == '4':\n",
        "      return # sai da função consultar livro e voltar para o main\n",
        "    else:\n",
        "      print('Opção Inválida. Tente Novamante')\n",
        "      continue # volta para o inicio do laço\n",
        "#-----------------fim consultar livros ----------------------\n",
        "\n",
        "#------------Inicio remover_livros----------------------------\n",
        "def remover_livros():\n",
        "  print('----Bem-Vindo ao menu de Remover Livro----')\n",
        "  print('------------------------------------------')\n",
        "  id_desejado = int(input ('Entre com o ID do livro que deseja removere'))\n",
        "  for livro in lista_livros:\n",
        "    if livro ['id'] == id_desejado:\n",
        "      lista_livros.remove(livro) # remove o livro da lista de livros\n",
        "      print ('Livro removido')\n",
        "#----------------fim remover livros----------------------------\n",
        "\n",
        "#------------------Inicio de MAIN -------------------------\n",
        "print('Bem-Vindo ao Controle de livro da Mariani Gomes da Silva Santos')\n",
        "while True:\n",
        "  opcao_principal = input('\\n Escolha a opção desejada:\\n' +\n",
        "                          '1- Cadastrar Livro\\n'+\n",
        "                          '2- Consultar Livro\\n'+\n",
        "                          '3- Remover Livro\\n'+\n",
        "                          '4- Encerrar Programa'+\n",
        "                          '>>')\n",
        "\n",
        "  if opcao_principal == '1':\n",
        "    id_global = id_global + 1\n",
        "    cadastrar_livro(id_global)\n",
        "  elif opcao_principal == '2':\n",
        "   consultar_livros()\n",
        "  elif opcao_principal =='3':\n",
        "    remover_livros()\n",
        "  elif opcao_principal == '4':\n",
        "    break # encerrar o laço principal e o programa acaba\n",
        "  else:\n",
        "    print('Opção Inválida. Tente Novamente')\n",
        "\n",
        "\n",
        "\n",
        "\n",
        "\n",
        "\n",
        "\n",
        "\n",
        "\n",
        "\n",
        "\n",
        "\n",
        "\n",
        "\n",
        "\n",
        "\n",
        "\n",
        "\n",
        "\n",
        "\n",
        "\n",
        "\n",
        "\n",
        "\n"
      ]
    }
  ],
  "metadata": {
    "colab": {
      "provenance": []
    },
    "kernelspec": {
      "display_name": "Python 3",
      "name": "python3"
    },
    "language_info": {
      "name": "python"
    }
  },
  "nbformat": 4,
  "nbformat_minor": 0
}